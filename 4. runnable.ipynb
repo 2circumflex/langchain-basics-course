{
 "cells": [
  {
   "cell_type": "code",
   "execution_count": 3,
   "id": "f6191d75",
   "metadata": {},
   "outputs": [],
   "source": [
    "from langchain_ollama import ChatOllama\n",
    "\n",
    "llm = ChatOllama(model=\"llama3.2:1b\")"
   ]
  },
  {
   "cell_type": "code",
   "execution_count": 27,
   "id": "bddcb750",
   "metadata": {},
   "outputs": [
    {
     "name": "stdout",
     "output_type": "stream",
     "text": [
      "text='What is the capital of France? Return the name of the city only'\n"
     ]
    }
   ],
   "source": [
    "from langchain_core.prompts import PromptTemplate\n",
    "from langchain_core.output_parsers import StrOutputParser\n",
    "\n",
    "prompt_template = PromptTemplate(\n",
    "    template=\"What is the capital of {country}? Return the name of the city only\",\n",
    "    input_variables=[\"country\"],\n",
    ")\n",
    "\n",
    "prompt = prompt_template.invoke({\"country\": \"France\"})\n",
    "\n",
    "print(prompt)\n",
    "\n",
    "ai_message = llm.invoke(prompt)\n",
    "\n",
    "output_parser = StrOutputParser()\n",
    "\n",
    "answer = output_parser.invoke(ai_message)"
   ]
  },
  {
   "cell_type": "code",
   "execution_count": 28,
   "id": "7f0262d2",
   "metadata": {},
   "outputs": [
    {
     "data": {
      "text/plain": [
       "'Paris'"
      ]
     },
     "execution_count": 28,
     "metadata": {},
     "output_type": "execute_result"
    }
   ],
   "source": [
    "capital_chain = prompt_template | llm | output_parser\n",
    "capital_chain.invoke({\"country\": \"France\"})"
   ]
  },
  {
   "cell_type": "code",
   "execution_count": 29,
   "id": "af95253e",
   "metadata": {},
   "outputs": [],
   "source": [
    "country_prompt = PromptTemplate(\n",
    "  template=\"\"\"Guess the name of the country in the {continent} based on the following information:\n",
    "  {information}\n",
    "  Return the name of the country only.\n",
    "  \"\"\",\n",
    "  input_variables=[\"information\"],\n",
    ")\n",
    "country_chain = country_prompt | llm | output_parser\n",
    "# country_chain.invoke({\"information\": \"This country is very famous for its wine in Europe\"})"
   ]
  },
  {
   "cell_type": "code",
   "execution_count": 30,
   "id": "33ef6e55",
   "metadata": {},
   "outputs": [],
   "source": [
    "from langchain_core.runnables import RunnablePassthrough\n",
    "\n",
    "# final_chain = {\"country\": country_chain} | capital_chain\n",
    "final_chain = {\"information\": RunnablePassthrough(), \"continent\": RunnablePassthrough()} | {\"country\": country_chain} | capital_chain"
   ]
  },
  {
   "cell_type": "code",
   "execution_count": 36,
   "id": "e53b8885",
   "metadata": {},
   "outputs": [
    {
     "data": {
      "text/plain": [
       "'Rome.'"
      ]
     },
     "execution_count": 36,
     "metadata": {},
     "output_type": "execute_result"
    }
   ],
   "source": [
    "# final_chain.invoke({\"information\": \"This country is very famous for its wine in Europe\"})\n",
    "final_chain.invoke({\"information\": \"This country is very famous for its wine in Europe\", \"continent\": \"Europe\"})"
   ]
  }
 ],
 "metadata": {
  "kernelspec": {
   "display_name": ".venv",
   "language": "python",
   "name": "python3"
  },
  "language_info": {
   "codemirror_mode": {
    "name": "ipython",
    "version": 3
   },
   "file_extension": ".py",
   "mimetype": "text/x-python",
   "name": "python",
   "nbconvert_exporter": "python",
   "pygments_lexer": "ipython3",
   "version": "3.13.5"
  }
 },
 "nbformat": 4,
 "nbformat_minor": 5
}
