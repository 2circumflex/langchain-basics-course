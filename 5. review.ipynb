{
 "cells": [
  {
   "cell_type": "code",
   "execution_count": 1,
   "id": "d17135fb",
   "metadata": {},
   "outputs": [],
   "source": [
    "from langchain_ollama import ChatOllama\n",
    "\n",
    "llm = ChatOllama(\n",
    "  model=\"llama3.2:1b\",\n",
    "  temperature=0,\n",
    ")\n"
   ]
  },
  {
   "cell_type": "code",
   "execution_count": null,
   "id": "8d10a9ad",
   "metadata": {},
   "outputs": [
    {
     "data": {
      "text/plain": [
       "'Bibimbap.'"
      ]
     },
     "execution_count": 3,
     "metadata": {},
     "output_type": "execute_result"
    }
   ],
   "source": [
    "# 음식 이름 찾기\n",
    "\n",
    "from langchain_core.output_parsers import StrOutputParser\n",
    "from langchain_core.prompts import PromptTemplate\n",
    "\n",
    "food_prompt = PromptTemplate(\n",
    "  template=\"\"\"What is one of the most popular food in {country}?\n",
    "  Please return the name of the food only.\n",
    "  \"\"\",\n",
    "  input_variables=[\"country\"],\n",
    ")\n",
    "\n",
    "food_chain = food_prompt | llm | StrOutputParser()\n",
    "food_chain.invoke({\"country\": \"Sourth Korea\"})"
   ]
  },
  {
   "cell_type": "code",
   "execution_count": 6,
   "id": "7b3842d6",
   "metadata": {},
   "outputs": [
    {
     "data": {
      "text/plain": [
       "\"Here's a traditional Korean recipe for Bibimbap:\\n\\n**Servings:** 4-6 people\\n\\n**Ingredients:**\\n\\n1. **Rice**: 2 cups of white or brown rice\\n2. **Vegetables**: 1 cup of bean sprouts, 1 cup of shredded zucchini, 1/2 cup of diced carrots, 1/2 cup of diced cucumber, 1/4 cup of chopped scallions\\n3. **Meat**: 1/2 cup of cooked beef (thinly sliced), 1/4 cup of cooked chicken (optional)\\n4. **Eggs**: 2 eggs, fried or poached\\n5. **Sauce**: 2 tablespoons of Gochujang (Korean chili paste), 2 tablespoons of soy sauce, 2 tablespoons of rice vinegar, 1 tablespoon of sesame oil\\n6. **Seasonings**: Salt and black pepper to taste\\n\\n**Instructions:**\\n\\n1. Cook the rice according to package instructions.\\n2. In a separate pan, heat 1 tablespoon of sesame oil over medium heat. Add the bean sprouts, zucchini, carrots, and cucumber. Stir-fry for 3-4 minutes or until tender-crisp.\\n3. In a small bowl, whisk together Gochujang, soy sauce, rice vinegar, and sesame oil to make the sauce.\\n4. To assemble the Bibimbap:\\n\\t* Place a scoop of cooked rice in a bowl.\\n\\t* Arrange the vegetables on top of the rice.\\n\\t* Add the cooked beef or chicken (if using).\\n\\t* Fry an egg and place it on top of the vegetables.\\n5. Drizzle the sauce over the ingredients and season with salt and black pepper to taste.\\n6. Serve immediately and enjoy!\\n\\n**Tips:**\\n\\n* Use a variety of colorful vegetables for added visual appeal.\\n* Adjust the level of spiciness to your liking by adding more or less Gochujang.\\n* You can also add other toppings such as diced kimchi, pickled ginger, or chopped green onions.\""
      ]
     },
     "execution_count": 6,
     "metadata": {},
     "output_type": "execute_result"
    }
   ],
   "source": [
    "from langchain_core.prompts import ChatPromptTemplate\n",
    "\n",
    "recipe_prompt = ChatPromptTemplate.from_messages([\n",
    "  (\"system\", \"\"\"Provide the recipe of the food that the user wants.\n",
    "  Please return the recipe only as a numbered list\"\"\"),\n",
    "  (\"human\", \"Can you give me the recipe for making {food}?\"),\n",
    "])\n",
    "\n",
    "recipe_chain = recipe_prompt | llm | StrOutputParser()\n",
    "recipe_chain.invoke({\"food\": \"bibimbap\"})"
   ]
  },
  {
   "cell_type": "code",
   "execution_count": 7,
   "id": "bdd8cb4a",
   "metadata": {},
   "outputs": [
    {
     "data": {
      "text/plain": [
       "\"Here's a classic recipe for making croissants:\\n\\n**Ingredients:**\\n\\nFor the dough:\\n\\n1. 1 cup warm milk (around 105°F to 115°F)\\n2. 1/4 cup granulated sugar\\n3. 2 teaspoons active dry yeast\\n4. 3 cups all-purpose flour\\n5. 1 teaspoon salt\\n6. 1/4 cup unsalted butter, melted\\n\\nFor the butter block:\\n\\n7. 1 cup (2 sticks) unsalted butter, softened\\n8. 1/2 cup confectioners' sugar\\n\\n**Instructions:**\\n\\n**Step 1: Make the dough**\\n\\n1. In a small bowl, combine warm milk and sugar. Sprinkle yeast over the mixture and let it sit for 5-10 minutes, until frothy.\\n2. In a large mixing bowl, whisk together flour, salt, and melted butter.\\n3. Add the yeast mixture to the dry ingredients and mix until a shaggy dough forms.\\n4. Knead the dough on a floured surface for 10-12 minutes, until smooth and elastic.\\n\\n**Step 2: Rest the dough**\\n\\n1. Place the dough in a lightly oiled bowl, cover it with plastic wrap, and let it rest in a warm place for 1 hour, or until doubled in size.\\n\\n**Step 3: Make the butter block**\\n\\n1. On a lightly floured surface, roll out the softened butter to a rectangle about 1/4-inch thick.\\n2. Brush the edges of the butter with confectioners' sugar.\\n\\n**Step 4: Laminate the dough**\\n\\n1. Roll out the rested dough to a large rectangle about 1/4-inch thick.\\n2. Place the butter block on top of the dough, making sure to align the edges.\\n3. Fold the dough over the butter, like a letter, so that the two long sides meet in the middle.\\n4. Rotate the dough 90 degrees, so that the folded edge is facing you.\\n5. Roll out the dough to a large rectangle about 1/4-inch thick.\\n\\n**Step 5: Cut and shape the croissants**\\n\\n1. Use a pastry cutter or a sharp knife to cut the dough into long, thin triangles.\\n2. Cut each triangle in half, so that you have a total of 16-20 triangles.\\n3. Roll each triangle into a croissant shape, starting from the wide end.\\n\\n**Step 6: Proof and bake**\\n\\n1. Place the croissants on a parchment-lined baking sheet, leaving about 1 inch of space between each one.\\n2. Cover with plastic wrap and let them proof in a warm place for 1-2 hours, or until doubled in size.\\n3. Preheat oven to 400°F (200°C).\\n4. Bake the croissants for 15-20 minutes, or until golden brown.\\n\\n**Tips:**\\n\\n* Keep the butter cold at all times.\\n* Don't overwork the dough or the butter block.\\n* Let the croissants proof long enough to develop a nice layer of gluten.\\n* Bake the croissants when they're still slightly soft in the center.\""
      ]
     },
     "execution_count": 7,
     "metadata": {},
     "output_type": "execute_result"
    }
   ],
   "source": [
    "final_chain = {\"food\": food_chain} | recipe_chain\n",
    "final_chain.invoke({\"country\": \"France\"})"
   ]
  }
 ],
 "metadata": {
  "kernelspec": {
   "display_name": ".venv",
   "language": "python",
   "name": "python3"
  },
  "language_info": {
   "codemirror_mode": {
    "name": "ipython",
    "version": 3
   },
   "file_extension": ".py",
   "mimetype": "text/x-python",
   "name": "python",
   "nbconvert_exporter": "python",
   "pygments_lexer": "ipython3",
   "version": "3.13.5"
  }
 },
 "nbformat": 4,
 "nbformat_minor": 5
}
